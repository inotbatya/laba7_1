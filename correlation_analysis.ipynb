{
 "cells": [
  {
   "cell_type": "code",
   "execution_count": 1,
   "id": "6cb8f0f7-8265-494e-9eaf-d107b46c6581",
   "metadata": {},
   "outputs": [
    {
     "name": "stdout",
     "output_type": "stream",
     "text": [
      "Коэффициент корреляции оценок: -0.09\n",
      "Коэффициент корреляции доллара и евро: 0.70\n",
      "Коэффициент корреляции доллара и нефти: 0.08\n"
     ]
    }
   ],
   "source": [
    "import numpy as np\n",
    "import pandas as pd\n",
    "\n",
    "# --- Задача 1 ---\n",
    "# Данные оценок\n",
    "grades = {\n",
    "    \"Разработка ИС\": [45, 87, 65, 73, 77, 82, 90, 71, 84, 79],\n",
    "    \"ИИ и большие данные\": [65, 32, 72, 84, 75, 88, 70, 67, 75, 68]\n",
    "}\n",
    "df_grades = pd.DataFrame(grades)\n",
    "\n",
    "# Коэффициент корреляции\n",
    "correlation_grades = df_grades.corr().iloc[0, 1]\n",
    "print(f\"Коэффициент корреляции оценок: {correlation_grades:.2f}\")\n",
    "\n",
    "# --- Задача 2 ---\n",
    "# Курсы доллара и евро\n",
    "df_currency = pd.read_csv('../data/dollar_euro.csv')\n",
    "correlation_currency = df_currency['usd'].corr(df_currency['eur'])\n",
    "print(f\"Коэффициент корреляции доллара и евро: {correlation_currency:.2f}\")\n",
    "\n",
    "# --- Задача 3 ---\n",
    "# Курсы доллара и нефти\n",
    "df_oil = pd.read_csv('../data/dollar_oil.csv')\n",
    "correlation_oil = df_oil['usd'].corr(df_oil['oil_price'])\n",
    "print(f\"Коэффициент корреляции доллара и нефти: {correlation_oil:.2f}\")\n"
   ]
  },
  {
   "cell_type": "code",
   "execution_count": null,
   "id": "1ee609c9-44f0-4875-9188-075949a49391",
   "metadata": {},
   "outputs": [],
   "source": []
  }
 ],
 "metadata": {
  "kernelspec": {
   "display_name": "Python 3 (ipykernel)",
   "language": "python",
   "name": "python3"
  },
  "language_info": {
   "codemirror_mode": {
    "name": "ipython",
    "version": 3
   },
   "file_extension": ".py",
   "mimetype": "text/x-python",
   "name": "python",
   "nbconvert_exporter": "python",
   "pygments_lexer": "ipython3",
   "version": "3.12.6"
  }
 },
 "nbformat": 4,
 "nbformat_minor": 5
}
