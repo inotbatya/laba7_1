{
 "cells": [
  {
   "cell_type": "code",
   "execution_count": 2,
   "id": "5c2a7584-ca0b-4dd6-86e9-c14ea9a6edc5",
   "metadata": {},
   "outputs": [
    {
     "name": "stdout",
     "output_type": "stream",
     "text": [
      "Коэффициенты регрессии: [0.76       1.43857143 0.17857143]\n",
      "Коэффициенты: a = 0.10, b = 2.20\n",
      "Коэффициенты без sklearn: [0.1 2.2]\n",
      "Коэффициенты: a = 109.28, b = -2.15\n",
      "R^2: 0.78\n",
      "Коэффициенты: [ 0.         27.24475524 -2.44755245]\n",
      "R^2: 0.85\n"
     ]
    }
   ],
   "source": [
    "# Импортируем библиотеки\n",
    "import numpy as np\n",
    "import pandas as pd\n",
    "from sklearn.linear_model import LinearRegression\n",
    "from sklearn.preprocessing import PolynomialFeatures\n",
    "from sklearn.metrics import r2_score\n",
    "from numpy.linalg import inv\n",
    "\n",
    "# --- Задача 4 ---\n",
    "# Пример данных\n",
    "X = np.array([1, 2, 3, 4, 5])  # Независимая переменная\n",
    "Y = np.array([2.3, 4.5, 6.7, 9.2, 12.5])  # Зависимая переменная\n",
    "\n",
    "# Формируем X для регрессии второго порядка\n",
    "X_poly = np.vstack([np.ones(len(X)), X, X**2]).T\n",
    "\n",
    "# Вычисляем коэффициенты\n",
    "B = inv(X_poly.T @ X_poly) @ X_poly.T @ Y\n",
    "print(f\"Коэффициенты регрессии: {B}\")\n",
    "\n",
    "# --- Задача 5 ---\n",
    "# Пример данных\n",
    "X = np.array([\n",
    "    [1, 2],\n",
    "    [2, 4],\n",
    "    [3, 6],\n",
    "    [4, 8]\n",
    "])  # Линейно зависимые переменные\n",
    "Y = np.array([2.3, 4.5, 6.7, 8.9])  # Зависимая переменная\n",
    "\n",
    "\n",
    "from sklearn.linear_model import LinearRegression\n",
    "\n",
    "# Модель линейной регрессии\n",
    "model = LinearRegression().fit(X[:, :1], Y)  # Используем только первую колонку\n",
    "print(f\"Коэффициенты: a = {model.intercept_:.2f}, b = {model.coef_[0]:.2f}\")\n",
    "\n",
    "# Или проверим данные перед расчетом вручную\n",
    "X_with_bias = np.hstack([np.ones((X.shape[0], 1)), X[:, :1]])  # Исключаем лишний столбец\n",
    "B = inv(X_with_bias.T @ X_with_bias) @ X_with_bias.T @ Y\n",
    "print(f\"Коэффициенты без sklearn: {B}\")\n",
    "\n",
    "\n",
    "# --- Задача 6 ---\n",
    "# Регрессия температуры и влажности\n",
    "temperature = np.array([15, 18, 21, 22, 16, 17, 14]).reshape(-1, 1)\n",
    "humidity = np.array([78, 74, 65, 60, 68, 75, 80])\n",
    "\n",
    "model_temp_hum = LinearRegression().fit(temperature, humidity)\n",
    "predictions = model_temp_hum.predict(temperature)\n",
    "\n",
    "print(f\"Коэффициенты: a = {model_temp_hum.intercept_:.2f}, b = {model_temp_hum.coef_[0]:.2f}\")\n",
    "print(f\"R^2: {r2_score(humidity, predictions):.2f}\")\n",
    "\n",
    "# --- Задача 7 ---\n",
    "# Регрессия доходов фирмы\n",
    "months = np.array([1, 2, 3, 4, 5, 6, 7, 8, 9, 10, 11, 12]).reshape(-1, 1)\n",
    "income = np.array([35, 67, 90, 110, 125, 100, 85, 70, 65, 40, 30, 15])\n",
    "\n",
    "poly = PolynomialFeatures(degree=2)\n",
    "X_poly = poly.fit_transform(months)\n",
    "\n",
    "model_income = LinearRegression().fit(X_poly, income)\n",
    "predictions_income = model_income.predict(X_poly)\n",
    "\n",
    "print(f\"Коэффициенты: {model_income.coef_}\")\n",
    "print(f\"R^2: {r2_score(income, predictions_income):.2f}\")\n"
   ]
  },
  {
   "cell_type": "code",
   "execution_count": null,
   "id": "376ca8d6-07b1-4d1b-b3a8-8f639ce9b1a5",
   "metadata": {},
   "outputs": [],
   "source": []
  },
  {
   "cell_type": "code",
   "execution_count": null,
   "id": "6efdbe0c-4554-4ff2-ab89-f4b6561007c5",
   "metadata": {},
   "outputs": [],
   "source": []
  }
 ],
 "metadata": {
  "kernelspec": {
   "display_name": "Python 3 (ipykernel)",
   "language": "python",
   "name": "python3"
  },
  "language_info": {
   "codemirror_mode": {
    "name": "ipython",
    "version": 3
   },
   "file_extension": ".py",
   "mimetype": "text/x-python",
   "name": "python",
   "nbconvert_exporter": "python",
   "pygments_lexer": "ipython3",
   "version": "3.12.6"
  }
 },
 "nbformat": 4,
 "nbformat_minor": 5
}
