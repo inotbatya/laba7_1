# Импортируем библиотеки
import numpy as np
import pandas as pd
from sklearn.linear_model import LinearRegression
from sklearn.preprocessing import PolynomialFeatures
from sklearn.metrics import r2_score
from numpy.linalg import inv

# --- Задача 4 ---
# Пример данных
X = np.array([1, 2, 3, 4, 5])  # Независимая переменная
Y = np.array([2.3, 4.5, 6.7, 9.2, 12.5])  # Зависимая переменная

# Формируем X для регрессии второго порядка
X_poly = np.vstack([np.ones(len(X)), X, X**2]).T

# Вычисляем коэффициенты
B = inv(X_poly.T @ X_poly) @ X_poly.T @ Y
print(f"Коэффициенты регрессии: {B}")

# --- Задача 5 ---
# Пример данных
X = np.array([
    [1, 2],
    [2, 4],
    [3, 6],
    [4, 8]
])  # Две независимые переменные
Y = np.array([2.3, 4.5, 6.7, 8.9])  # Зависимая переменная

# Добавляем столбец единиц для свободного члена
X_with_bias = np.hstack([np.ones((X.shape[0], 1)), X])

# Вычисляем коэффициенты
B = inv(X_with_bias.T @ X_with_bias) @ X_with_bias.T @ Y
print(f"Коэффициенты многомерной регрессии: {B}")

# --- Задача 6 ---
# Регрессия температуры и влажности
temperature = np.array([15, 18, 21, 22, 16, 17, 14]).reshape(-1, 1)
humidity = np.array([78, 74, 65, 60, 68, 75, 80])

model_temp_hum = LinearRegression().fit(temperature, humidity)
predictions = model_temp_hum.predict(temperature)

print(f"Коэффициенты: a = {model_temp_hum.intercept_:.2f}, b = {model_temp_hum.coef_[0]:.2f}")
print(f"R^2: {r2_score(humidity, predictions):.2f}")

# --- Задача 7 ---
# Регрессия доходов фирмы
months = np.array([1, 2, 3, 4, 5, 6, 7, 8, 9, 10, 11, 12]).reshape(-1, 1)
income = np.array([35, 67, 90, 110, 125, 100, 85, 70, 65, 40, 30, 15])

poly = PolynomialFeatures(degree=2)
X_poly = poly.fit_transform(months)

model_income = LinearRegression().fit(X_poly, income)
predictions_income = model_income.predict(X_poly)

print(f"Коэффициенты: {model_income.coef_}")
print(f"R^2: {r2_score(income, predictions_income):.2f}")
