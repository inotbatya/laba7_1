# Импортируем библиотеки
import numpy as np
import pandas as pd

# --- Задача 1 ---
# Данные оценок
grades = {
    "Разработка ИС": [45, 87, 65, 73, 77, 82, 90, 71, 84, 79],
    "ИИ и большие данные": [65, 32, 72, 84, 75, 88, 70, 67, 75, 68]
}
df_grades = pd.DataFrame(grades)

# Коэффициент корреляции
correlation_grades = df_grades.corr().iloc[0, 1]
print(f"Коэффициент корреляции оценок: {correlation_grades:.2f}")

# --- Задача 2 ---
# Курсы доллара и евро
df_currency = pd.read_csv('../data/dollar_euro.csv')
correlation_currency = df_currency['usd'].corr(df_currency['eur'])
print(f"Коэффициент корреляции доллара и евро: {correlation_currency:.2f}")

# --- Задача 3 ---
# Курсы доллара и нефти
df_oil = pd.read_csv('../data/dollar_oil.csv')
correlation_oil = df_oil['usd'].corr(df_oil['oil_price'])
print(f"Коэффициент корреляции доллара и нефти: {correlation_oil:.2f}")
